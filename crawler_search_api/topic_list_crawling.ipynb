{
 "cells": [
  {
   "cell_type": "code",
   "execution_count": 29,
   "metadata": {},
   "outputs": [],
   "source": [
    "from crawler import *\n",
    "import math"
   ]
  },
  {
   "cell_type": "code",
   "execution_count": 30,
   "metadata": {
    "collapsed": true
   },
   "outputs": [],
   "source": [
    "topics = []\n",
    "with open(\"topic list\") as file:\n",
    "    for line in file:\n",
    "        line = line.strip()\n",
    "        line = line.split(\",\")\n",
    "        topics.append([line[0],int(math.log(int(line[1]))/16*1000)])\n",
    "file.close()\n",
    "no_token = len(topics)"
   ]
  },
  {
   "cell_type": "code",
   "execution_count": 31,
   "metadata": {},
   "outputs": [
    {
     "data": {
      "text/plain": [
       "[['qualcomm', 1045]]"
      ]
     },
     "execution_count": 31,
     "metadata": {},
     "output_type": "execute_result"
    }
   ],
   "source": [
    "topics[-1:]"
   ]
  },
  {
   "cell_type": "code",
   "execution_count": 28,
   "metadata": {
    "scrolled": false
   },
   "outputs": [
    {
     "name": "stdout",
     "output_type": "stream",
     "text": [
      "Searching for:qualcomm\n",
      "Start crawling 1045 tweets\n",
      "Got 91 tweets\n",
      "Got 166 tweets\n",
      "Got 266 tweets\n",
      "Got 366 tweets\n",
      "Got 450 tweets\n",
      "Got 550 tweets\n",
      "Got 643 tweets\n",
      "Got 730 tweets\n",
      "Got 827 tweets\n",
      "Got 919 tweets\n",
      "Got 974 tweets\n",
      "Got 1033 tweets\n",
      "Got 1133 tweets\n",
      "Got 1133 tweets in total\n"
     ]
    }
   ],
   "source": [
    "for item in topics:\n",
    "    crawler(tweets_wanted=item[1], query=item[0], file_path=item[0]+'.json')\n",
    "\n"
   ]
  },
  {
   "cell_type": "code",
   "execution_count": null,
   "metadata": {
    "collapsed": true
   },
   "outputs": [],
   "source": []
  },
  {
   "cell_type": "code",
   "execution_count": null,
   "metadata": {
    "collapsed": true
   },
   "outputs": [],
   "source": []
  }
 ],
 "metadata": {
  "kernelspec": {
   "display_name": "Python 2",
   "language": "python",
   "name": "python2"
  }
 },
 "nbformat": 4,
 "nbformat_minor": 2
}
